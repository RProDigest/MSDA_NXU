{
 "cells": [
  {
   "cell_type": "markdown",
   "metadata": {},
   "source": [
    "**Course BAN6420, Module 1**"
   ]
  },
  {
   "cell_type": "markdown",
   "metadata": {},
   "source": [
    "**Author: Mubanga Nsofu**"
   ]
  },
  {
   "cell_type": "markdown",
   "metadata": {},
   "source": [
    "**Email: mnsofu@learner.nexford.org**"
   ]
  },
  {
   "cell_type": "markdown",
   "metadata": {},
   "source": [
    "**Learner ID: 149050**"
   ]
  },
  {
   "cell_type": "markdown",
   "metadata": {},
   "source": [
    "**Lecturer: Prof. Rapahael Wanjiku**"
   ]
  },
  {
   "cell_type": "markdown",
   "metadata": {},
   "source": [
    "**Institution: Nexford University**\n"
   ]
  },
  {
   "cell_type": "markdown",
   "metadata": {},
   "source": [
    "**Date: 7th July 2024**"
   ]
  },
  {
   "cell_type": "markdown",
   "metadata": {},
   "source": [
    "The code solution below attempts to provide a solution to the Highridge contrstruction company payment slips for 400 employees, to run the code, one can refer to the Readme file. The code defines employee id's, names, age, salary, leave days\n"
   ]
  },
  {
   "cell_type": "code",
   "execution_count": 11,
   "metadata": {},
   "outputs": [],
   "source": [
    "# Import relevant modules and libraries\n",
    "\n",
    "from faker import Faker # Generates fake data\n",
    "import pandas as pd # create and manipulate pandas dataframes\n",
    "import random # needed for random generation\n",
    "import os # file and directory handling"
   ]
  },
  {
   "cell_type": "code",
   "execution_count": 12,
   "metadata": {},
   "outputs": [],
   "source": [
    "# Specify the directory where you have write permissions\n",
    "output_directory = \"D:/Nexford/MSDA/MSDA Modules/BAN6420 Python and R Programming/\"\n",
    "\n"
   ]
  },
  {
   "cell_type": "code",
   "execution_count": 13,
   "metadata": {},
   "outputs": [],
   "source": [
    "# This line of code checks if the directory exists\n",
    "os.makedirs(output_directory, exist_ok=True)"
   ]
  },
  {
   "cell_type": "code",
   "execution_count": 14,
   "metadata": {},
   "outputs": [],
   "source": [
    "# Here we specify the filename within the chosen directory\n",
    "csv_filename = os.path.join(output_directory, 'employee_payslip.csv')"
   ]
  },
  {
   "cell_type": "code",
   "execution_count": 20,
   "metadata": {},
   "outputs": [],
   "source": [
    "# Create and initialize faker generator\n",
    "fake = Faker()\n",
    "\n",
    "#Define possible values for attributes\n",
    "\n",
    "genders = ['Male', 'Female']\n",
    "\n",
    "# Generate synthetic data\n",
    "num_employees = 400  # here I define the number of employees 400 in this case\n",
    "\n",
    "random.seed(204)"
   ]
  },
  {
   "cell_type": "code",
   "execution_count": 21,
   "metadata": {},
   "outputs": [
    {
     "name": "stdout",
     "output_type": "stream",
     "text": [
      "   Employee Id             Name Gender  Age  ... Salary (USD)  Over Time Hours  Leave Days  Employee Level\n",
      "0            1    Todd Marshall   Male   70  ...       114049                0          19         Unknown\n",
      "1            2  Melvin Robinson   Male   46  ...        18692                3          16              A1\n",
      "2            3      Todd Wilson   Male   62  ...        15262                4           6              A1\n",
      "3            4      Justin Pugh   Male   61  ...        55440                0          15         Unknown\n",
      "4            5   Michael Gibson   Male   28  ...        61687                4          12         Unknown\n",
      "\n",
      "[5 rows x 9 columns]\n",
      "   Employee Id             Name Gender  Age  ... Salary (USD)  Over Time Hours  Leave Days  Employee Level\n",
      "0            1    Todd Marshall   Male   70  ...       114049                0          19         Unknown\n",
      "1            2  Melvin Robinson   Male   46  ...        18692                3          16              A1\n",
      "2            3      Todd Wilson   Male   62  ...        15262                4           6              A1\n",
      "3            4      Justin Pugh   Male   61  ...        55440                0          15         Unknown\n",
      "4            5   Michael Gibson   Male   28  ...        61687                4          12         Unknown\n",
      "\n",
      "[5 rows x 9 columns]\n"
     ]
    }
   ],
   "source": [
    "employee_list = [] # I define an empty list\n",
    "\n",
    "\n",
    "for employee_id in range(1,num_employees+1):\n",
    "    try:\n",
    "    \n",
    "        gender = fake.random_element(genders)\n",
    "        name = fake.name_male() if gender == \"Male\" else fake.name_female() #here, as I was testing, I noticed that it affects gender 'Male' to female name,that's why, I added this condition\n",
    "        address = fake.address()\n",
    "        age = random.randint(20,89)\n",
    "        salary = random.randint(1300,120000)\n",
    "        over_time = random.randint(0,4)\n",
    "        leave_days = random.randint(1,21)\n",
    "        employee_ID = num_employees\n",
    "    # Here I determine employee level based on salary and gender\n",
    "        if 10000 < salary < 20000:\n",
    "            employee_level = \"A1\"\n",
    "        elif 7500 < salary < 30000 and gender == \"Female\":\n",
    "            employee_level = \"A5-F\"\n",
    "        else:\n",
    "            employee_level = \"Unknown\"\n",
    "\n",
    "        entry = {\n",
    "            \"Employee Id\" : employee_id,\n",
    "            \"Name\": name,\n",
    "            \"Gender\": gender,\n",
    "            \"Age\": age,\n",
    "            \"Address\": address,\n",
    "            \"Salary (USD)\" : salary,\n",
    "            \"Over Time Hours\": over_time,\n",
    "            \"Leave Days\": leave_days,  \n",
    "            \"Employee Level\": employee_level\n",
    "        }\n",
    "    \n",
    "        employee_list.append(entry)\n",
    "    \n",
    "    except Exception as e:\n",
    "        print(f\"Error processing employee ID {employee_id}:{e}\")\n",
    "\n",
    "try:\n",
    "    df = pd.DataFrame(employee_list)\n",
    "    print(df.head())\n",
    "except Exception as e:\n",
    "    print(f\"Error in creating DataFrame:{e}\")\n"
   ]
  },
  {
   "cell_type": "code",
   "execution_count": 22,
   "metadata": {},
   "outputs": [
    {
     "name": "stdout",
     "output_type": "stream",
     "text": [
      "CSV file saved successfully at:D:/Nexford/MSDA/MSDA Modules/BAN6420 Python and R Programming/employee_payslip.csv\n",
      "CSV file saved successfully at:D:/Nexford/MSDA/MSDA Modules/BAN6420 Python and R Programming/employee_payslip.csv\n"
     ]
    }
   ],
   "source": [
    "try:\n",
    "    df.to_csv(csv_filename, index = False)\n",
    "    print(f\"CSV file saved successfully at:{csv_filename}\")\n",
    "except Exception as e:\n",
    "    print(f\"Error in Saving CSV file:{e}\")"
   ]
  }
 ],
 "metadata": {
  "language_info": {
   "name": "python"
  }
 },
 "nbformat": 4,
 "nbformat_minor": 2
}
