{
 "cells": [
  {
   "cell_type": "markdown",
   "metadata": {},
   "source": [
    "#### **Optional Question: Implemenent  a Logitsic Regression classifier on the breast cancer dataset**\n"
   ]
  },
  {
   "cell_type": "markdown",
   "metadata": {},
   "source": [
    "**Name: Mubanga Nsofu** <br>\n",
    "**Course: BAN6420, Module 5**<br>\n",
    "**Email: mnsofu@learner.nexford.org** <br>\n",
    "**Leaner Id: 149050** <br>\n",
    "**Institution: Nexford University**<br>\n",
    "**Lecturer: Prof. R. Wanjiku** <br>\n",
    "**Date: 3rd August 2024**\n",
    "**Task: Logistic Regressioin on Breast Cancer Data**\n"
   ]
  },
  {
   "cell_type": "markdown",
   "metadata": {},
   "source": [
    "**1.0 Introduction**"
   ]
  },
  {
   "cell_type": "markdown",
   "metadata": {},
   "source": [
    "*Logistic regression developed in the 1940s  as an alterntive approach to Linear Discriminant Analysis(LDA). It is a statitistical learning paradigm is applied to qualitative predictors.* <br>\n",
    "*A logistic regressor models the probability the ordinate belongs to a particular category of the abscissa, as shown below* <br>\n",
    "\n",
    "$p(X) = Pr(Y = 1|X)$ <br>\n",
    "\n",
    "*It is used for binary classification problems ((Hosmer, Lemeshow, & Sturdivant, 2013).\n",
    "As  can be seen from the equation above, it is used to  model the probability of an outcome based on one or more predictor variables (Kleinbaum & Klein, 2010).\n",
    "To this end we implement a logistic regression on the breast cancer dataset from sklearn as requested in the assignment*"
   ]
  },
  {
   "cell_type": "markdown",
   "metadata": {},
   "source": [
    "**2.0 Import the necessary libraries**"
   ]
  },
  {
   "cell_type": "code",
   "execution_count": 1,
   "metadata": {},
   "outputs": [],
   "source": [
    "#  Let us import the necessary libraries\n",
    "from sklearn import datasets\n",
    "from sklearn.model_selection import train_test_split\n",
    "from sklearn.preprocessing import StandardScaler\n",
    "from sklearn.linear_model import LogisticRegression\n",
    "from sklearn.metrics import accuracy_score, classification_report\n",
    "import pandas as pd\n",
    "import numpy as np\n",
    "import sweetviz as sv\n",
    "\n",
    "# For reproducibility\n",
    "np.random.seed(42)\n"
   ]
  },
  {
   "cell_type": "markdown",
   "metadata": {},
   "source": [
    "**3.0 Let us load and preprocess the dataset**"
   ]
  },
  {
   "cell_type": "code",
   "execution_count": 3,
   "metadata": {},
   "outputs": [],
   "source": [
    "# Load the Breast Cancer dataset\n",
    "breast_cancer = datasets.load_breast_cancer()\n",
    "X = breast_cancer.data\n",
    "y = breast_cancer.target\n",
    "\n",
    "# Standardize the features\n",
    "scaler = StandardScaler()\n",
    "X_scaled = scaler.fit_transform(X)\n"
   ]
  },
  {
   "cell_type": "markdown",
   "metadata": {},
   "source": [
    "**4.0 We split the dataset because this is a supervised learning problem**"
   ]
  },
  {
   "cell_type": "code",
   "execution_count": 6,
   "metadata": {},
   "outputs": [],
   "source": [
    "# Using the code below, we split the dataset into training and testing sets, and we ensure the data is scaled and the \n",
    "# results can be reproducible using the random_state argument\n",
    "X_train, X_test, y_train, y_test = train_test_split(X_scaled, y, test_size=0.2, random_state=42)\n"
   ]
  },
  {
   "cell_type": "markdown",
   "metadata": {},
   "source": [
    "**5.0 We Train the Logistic Regression Model**"
   ]
  },
  {
   "cell_type": "code",
   "execution_count": null,
   "metadata": {},
   "outputs": [],
   "source": [
    "# Let us instantiate the logistic regression model class from sklearn\n",
    "logistic_regressor = LogisticRegression()\n",
    "\n",
    "# Then we train the model using the training data\n",
    "logistic_regressor.fit(X_train, y_train)\n"
   ]
  },
  {
   "cell_type": "markdown",
   "metadata": {},
   "source": [
    "**6.0 Logistic Regression Model Evaluation**"
   ]
  },
  {
   "cell_type": "code",
   "execution_count": 8,
   "metadata": {},
   "outputs": [
    {
     "name": "stdout",
     "output_type": "stream",
     "text": [
      "Accuracy: 0.97\n",
      "              precision    recall  f1-score   support\n",
      "\n",
      "      Benign       0.98      0.95      0.96        43\n",
      "   Malignant       0.97      0.99      0.98        71\n",
      "\n",
      "    accuracy                           0.97       114\n",
      "   macro avg       0.97      0.97      0.97       114\n",
      "weighted avg       0.97      0.97      0.97       114\n",
      "\n",
      "Accuracy: 0.97\n",
      "              precision    recall  f1-score   support\n",
      "\n",
      "      Benign       0.98      0.95      0.96        43\n",
      "   Malignant       0.97      0.99      0.98        71\n",
      "\n",
      "    accuracy                           0.97       114\n",
      "   macro avg       0.97      0.97      0.97       114\n",
      "weighted avg       0.97      0.97      0.97       114\n",
      "\n"
     ]
    }
   ],
   "source": [
    "# Predict on the test data\n",
    "y_pred = logistic_regressor.predict(X_test)\n",
    "\n",
    "# Calculate the accuracy\n",
    "accuracy = accuracy_score(y_test, y_pred)\n",
    "print(f'Accuracy: {accuracy:.2f}')\n",
    "\n",
    "# Print the classification report\n",
    "print(classification_report(y_test, y_pred, target_names=['Benign', 'Malignant']))\n"
   ]
  },
  {
   "cell_type": "markdown",
   "metadata": {},
   "source": [
    "**7.0 Results Interpretation**"
   ]
  },
  {
   "cell_type": "markdown",
   "metadata": {},
   "source": [
    "**7.1. Precision is defined as the ratio of correctly predicted positive observations(TP) to the total predicted positives(TP+FP). Mathematically we can say:** <br>\n",
    "\n",
    "$precision = TP/(TP+FP)$ <br>\n",
    "\n",
    "*Where: TP = True Positives and FP = False Positives* <br>\n",
    "\n",
    "*In the context of our results:* <br>\n",
    "**Benign:** Precision is 0.98, meaning 98% of the samples predicted as Benign are actually Benign. <br>\n",
    "**Malignant:** Precision is 0.97, meaning 97% of the samples predicted as Malignant are actually Malignant.\n",
    "\n",
    "**7.2. Recall is defined as the ratio of correctly predicted positive observations(TP) to all observations in the actual class, essentially how well does our logistic regressor predict actual positives (TP's). Mathematically we can say:** <br>\n",
    "\n",
    "$recall = TP/(TP+FN)$ <br>\n",
    "\n",
    "*Where: TP = True Positives and FP = False Negatives* <br>\n",
    "\n",
    "*In the context of our results:* <br>\n",
    "**Benign:** Recall is 0.95, meaning 95% of the actual Benign samples were correctly predicted by our model. <br>\n",
    "**Malignant:** Precision is 0.99, meaning 99% of the actual Malignant samples were correctly identified by our model.\n",
    "\n",
    "**7.3. F1-Score is the harmonic mean of the precision and the recall. This metric is important because it provides a single metric that balances both the requirements of precision and recall. Mathematically we can say:** <br>\n",
    "\n",
    "$F1-Score = 2*(Precision*Recall)/(Precision+Recall)$ <br>\n",
    "\n",
    "\n",
    "\n",
    "*In the context of our results:* <br>\n",
    "**Benign:** F1-Score is 0.96, which indicates a balance between precisioin and recall between precison and recall for Benign samples. <br>\n",
    "**Malignant:** F1-Score is 0.98, which indicates a balance between precisioin and recall between precison and recall for Malignant samples.\n",
    "\n",
    "**7.4. Support is the actual number of occurrences of the class in the dataset. It shows how many samples there are for each class** <br>\n",
    "\n",
    "$F1-Score = 2*(Precision*Recall)/(Precision+Recall)$ <br>\n",
    "\n",
    "\n",
    "\n",
    "*In the context of our results:* <br>\n",
    "**Benign:** support  is 43, this means in our dataset there are 43 actuall Benign samples in the test set. <br>\n",
    "**Malignant:** support is 71, this means in our data there are 71 actual Malignant samples in the test set. <br>\n",
    "\n",
    "The support indicates class imbalance, howvere the model is performing well nevertheless as indicated by the F1-Score, precision and Recall metrics. These are safety nets as opposed to only looking at model accuracy!"
   ]
  },
  {
   "cell_type": "markdown",
   "metadata": {},
   "source": [
    "**8.0 References**"
   ]
  },
  {
   "cell_type": "markdown",
   "metadata": {},
   "source": [
    "Hosmer, D. W., Lemeshow, S., & Sturdivant, R. X. (2013). Applied logistic regression (3rd ed.). Wiley. https://doi.org/10.1002/9781118548387 <br>\n",
    "\n",
    "Kleinbaum, D. G., & Klein, M. (2010). Logistic regression: A self-learning text (3rd ed.). Springer. https://doi.org/10.1007/978-1-4419-1742- <br>\n",
    "\n",
    "Goodfellow, I., Bengio, Y., & Courville, A. (2016). Deep learning. MIT Press. http://www.deeplearningbook.org\n",
    "\n"
   ]
  }
 ],
 "metadata": {
  "language_info": {
   "name": "python"
  }
 },
 "nbformat": 4,
 "nbformat_minor": 2
}
