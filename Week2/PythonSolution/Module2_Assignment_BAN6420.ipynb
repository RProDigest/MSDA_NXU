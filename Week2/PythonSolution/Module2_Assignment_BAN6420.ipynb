{
 "cells": [
  {
   "cell_type": "markdown",
   "metadata": {},
   "source": [
    "***Name: Mubanga Nsofu***\n"
   ]
  },
  {
   "cell_type": "markdown",
   "metadata": {},
   "source": [
    "***Date: 13th July 2024***\n"
   ]
  },
  {
   "cell_type": "markdown",
   "metadata": {},
   "source": [
    "***Institution: Nexford University***\n"
   ]
  },
  {
   "cell_type": "markdown",
   "metadata": {},
   "source": [
    "***Lecturer: Prof. Wanjiku***\n"
   ]
  },
  {
   "cell_type": "markdown",
   "metadata": {},
   "source": [
    "***Course: BAN 6420 (Programming in R and Python)***\n"
   ]
  },
  {
   "cell_type": "markdown",
   "metadata": {},
   "source": [
    "***Assignment: Module 2***"
   ]
  },
  {
   "cell_type": "markdown",
   "metadata": {},
   "source": [
    "***Assignment Solution Starts Here***"
   ]
  },
  {
   "cell_type": "markdown",
   "metadata": {},
   "source": [
    "***1.0 Install library for fast Exploratory Data Analysis in Python***"
   ]
  },
  {
   "cell_type": "code",
   "execution_count": null,
   "metadata": {},
   "outputs": [],
   "source": [
    "# Let us install a library that will facilitate EDA before we proceed writing the Salary function\n",
    "\t\n",
    "!pip install ydata-profiling[notebook]"
   ]
  },
  {
   "cell_type": "markdown",
   "metadata": {},
   "source": [
    "***2. Let us load the libraries needed for this assignment***"
   ]
  },
  {
   "cell_type": "code",
   "execution_count": 1,
   "metadata": {},
   "outputs": [],
   "source": [
    "# Import necessary libraries\n",
    "\n",
    "import pandas as pd  # pandas is used for data manipulation and analysis\n",
    "import os  # Used for interacting with the operating system with respect to file management e.g. removing files.\n",
    "import zipfile # For creating Zip files as requested in the assignment question\n",
    "from ydata_profiling import ProfileReport # For automated Exploratory Data Analysis (EDA)\n"
   ]
  },
  {
   "cell_type": "markdown",
   "metadata": {},
   "source": [
    "***3.0 Check working directory and ensure dataset is in the working directory***"
   ]
  },
  {
   "cell_type": "code",
   "execution_count": 84,
   "metadata": {},
   "outputs": [
    {
     "name": "stdout",
     "output_type": "stream",
     "text": [
      "D:\\Nexford\\MSDA\\MSDA Modules\\BAN6420 Python and R Programming\\From Github\\Assignment 2 Submission\n",
      "D:\\Nexford\\MSDA\\MSDA Modules\\BAN6420 Python and R Programming\\From Github\\Assignment 2 Submission\n"
     ]
    }
   ],
   "source": [
    "# To check your working directory run the following commands\n",
    "\n",
    "# get the current working directory\n",
    "current_working_directory = os.getcwd()\n",
    "\n",
    "# print output and then replace directory_location with the output of where the file lives\n",
    "print(current_working_directory)\n",
    "\n",
    "\n",
    "\n"
   ]
  },
  {
   "cell_type": "markdown",
   "metadata": {},
   "source": [
    "***Read in the employee dataset as a pandas dataframe called employee_df***"
   ]
  },
  {
   "cell_type": "code",
   "execution_count": null,
   "metadata": {},
   "outputs": [],
   "source": [
    "# Example : file_path = \"Your/Path/Total.csv\"\n",
    "\n",
    "file_path = \"D:/Nexford/MSDA/MSDA Modules/BAN6420 Python and R Programming/From Github/Assignment 2 Submission/Total.csv\"\n",
    "\n",
    "\n",
    "# Read the CSV file \n",
    "employee_df = pd.read_csv(file_path)\n",
    "\n",
    "# Display the first few rows of the DataFrame\n",
    "print(employee_df.head())"
   ]
  },
  {
   "cell_type": "markdown",
   "metadata": {},
   "source": [
    "***4.0 Let us have a quick view using EDA, as this is good practice in Data Analytics***"
   ]
  },
  {
   "cell_type": "code",
   "execution_count": null,
   "metadata": {},
   "outputs": [],
   "source": [
    "# generate report\n",
    "profile = ProfileReport(employee_df, title=\"Profiling Report\")\n",
    "\n",
    "profile"
   ]
  },
  {
   "cell_type": "markdown",
   "metadata": {},
   "source": [
    "***The dataset from the EDA above shows the following insights:***\n",
    "\n",
    "1. High Correlation between Total Pay and Total Pay Benefits as expected\n",
    "2. BasePay is an unsupported type, check if it needs cleaning or further analysis\tUnsupported\n",
    "3. OvertimePay is an unsupported type, check if it needs cleaning or further analysis\tUnsupported\n",
    "4. OtherPay is an unsupported type, check if it needs cleaning or further analysis\tUnsupported\n",
    "5. Benefits is an unsupported type, check if it needs cleaning or further analysis\n",
    "\n",
    "Items 2 to 5 suggest data quality issues and might need some attention especially in cases where data computation would be needed "
   ]
  },
  {
   "cell_type": "code",
   "execution_count": null,
   "metadata": {},
   "outputs": [],
   "source": [
    "# we need to clean the unsupported types, for example under \n",
    "# the EmployeeName column we have entries 'EmployeeName = 'not provided'\n",
    "# I filter out the rows with employee name having the string \"not provided\"\n",
    "# I use the '~' operator to negate the boolean Series returned by 'str.contains'\n",
    "# I use the 'str.contains' check if 'EmployeeName' contains 'not provided' (case insensitive)\n",
    "# Finally I use a print statement to just check the output\n",
    "\n",
    "employee_df = employee_df[~employee_df['EmployeeName'].str.contains('not provided', case=False)]\n",
    "\n",
    "print(employee_df)\n"
   ]
  },
  {
   "cell_type": "markdown",
   "metadata": {},
   "source": [
    "***5.0 Let us create the employee function , that returns employee details, has dictionary processing and error handling.*** "
   ]
  },
  {
   "cell_type": "code",
   "execution_count": null,
   "metadata": {},
   "outputs": [],
   "source": [
    "\n",
    "\n",
    "def employee_details(employee_name):\n",
    "    \"\"\"\n",
    "    This function retrieve details for a given employee by name.\n",
    "\n",
    "    The function searches for an employee in the employee_df DataFrame\n",
    "    by matching the provided employee_name. If a match is found, it \n",
    "    returns the employee's details as a dictionary. If no match is found,\n",
    "    it returns a message indicating that no details were found. The function\n",
    "    also includes error handling to manage any potential issues gracefully.\n",
    "\n",
    "    Parameters:\n",
    "    employee_name (str): The name of the employee to search for.\n",
    "\n",
    "    Returns:\n",
    "    dict or str: A dictionary containing the employee's details if found, \n",
    "                 otherwise a string message indicating that no details were found.\n",
    "                 If an error occurs, a string message with the error details is returned.\n",
    "\n",
    "    Example:\n",
    "    employee_details(\"thomas\")\n",
    "    \"\"\"\n",
    "    try:\n",
    "        # I search for the employee by name in the pandas DataFrame\n",
    "        # I use the str.contains method for case-insensitive matching because the dataframe has upper case and lower case characters\n",
    "\n",
    "        employee = employee_df[employee_df['EmployeeName'].str.contains(employee_name, case=False)]\n",
    "        \n",
    "        if not employee.empty:\n",
    "            # I convert the employee's details to a dictionary and return if the employee is found in the dataframe\n",
    "            return employee.iloc[0].to_dict()\n",
    "        else:\n",
    "            # I return the message below if no employee is found in the pandas DataFrame\n",
    "            return f\"No details found for employee: {employee_name}\"\n",
    "    except Exception as e:\n",
    "        # I handle any exceptions that occur and return an error message\n",
    "        return f\"An error occurred: {str(e)}\"\n",
    "\n"
   ]
  },
  {
   "cell_type": "code",
   "execution_count": 58,
   "metadata": {},
   "outputs": [
    {
     "data": {
      "text/plain": [
       "'No details found for employee: THOMAS'"
      ]
     },
     "execution_count": null,
     "metadata": {},
     "output_type": "execute_result"
    }
   ],
   "source": [
    "# Example Usage # 1\n",
    "\n",
    "employee_details(\"THOMAS\")"
   ]
  },
  {
   "cell_type": "code",
   "execution_count": 64,
   "metadata": {},
   "outputs": [
    {
     "data": {
      "text/plain": [
       "'No details found for employee: thomas'"
      ]
     },
     "execution_count": null,
     "metadata": {},
     "output_type": "execute_result"
    }
   ],
   "source": [
    "#Example Usage # 2\n",
    "\n",
    "employee_details(\"thomas\")"
   ]
  },
  {
   "cell_type": "code",
   "execution_count": 47,
   "metadata": {},
   "outputs": [
    {
     "data": {
      "text/plain": [
       "'No details found for employee: not provided'"
      ]
     },
     "execution_count": null,
     "metadata": {},
     "output_type": "execute_result"
    }
   ],
   "source": [
    "# Example Usage # 3\n",
    "\n",
    "employee_details(\"not provided\")"
   ]
  },
  {
   "cell_type": "code",
   "execution_count": 48,
   "metadata": {},
   "outputs": [
    {
     "name": "stdout",
     "output_type": "stream",
     "text": [
      "No details found for employee: Mubanga Nsofu\n",
      "No details found for employee: Mubanga Nsofu\n"
     ]
    }
   ],
   "source": [
    "# Let us test the function with a non-existent employee\n",
    "print(employee_details('Mubanga Nsofu'))\n"
   ]
  },
  {
   "cell_type": "code",
   "execution_count": 50,
   "metadata": {},
   "outputs": [
    {
     "name": "stdout",
     "output_type": "stream",
     "text": [
      "No details found for employee: Raphael Wanjiku\n",
      "No details found for employee: Raphael Wanjiku\n"
     ]
    }
   ],
   "source": [
    "# Another example\n",
    "\n",
    "print(employee_details('Raphael Wanjiku'))"
   ]
  },
  {
   "cell_type": "markdown",
   "metadata": {},
   "source": [
    "***6.0 Let us export the empolyee details as required by the question as a zipped csv file***"
   ]
  },
  {
   "cell_type": "code",
   "execution_count": 73,
   "metadata": {},
   "outputs": [],
   "source": [
    "def save_employee_details_to_zip(employee_name, output_zip_file):\n",
    "    \"\"\"\n",
    "    Retrieve details for a given employee by name and save them to a CSV file,\n",
    "    which is then zipped into a specified output file.\n",
    "\n",
    "    This function uses the employee_details function to get the employee's details,\n",
    "    writes the details to a CSV file, and then compresses the CSV file into a ZIP file.\n",
    "\n",
    "    Parameters:\n",
    "    employee_name (str): The name of the employee to search for.\n",
    "    output_zip_file (str): The path to the output ZIP file.\n",
    "\n",
    "    Returns:\n",
    "    str: A message indicating whether the process was successful or if an error occurred.\n",
    "\n",
    "    Example:\n",
    "    save_employee_details_to_zip(\"thomas\", \"employee_details.zip\")\n",
    "    \"\"\"\n",
    "    try:\n",
    "        # I get employee details using the employee_details function defined previously\n",
    "        details = employee_details(employee_name)\n",
    "        \n",
    "        if isinstance(details, dict):\n",
    "            # If the details are found and returned as a dictionary then,\n",
    "            # Create a DataFrame from the employee details dictionary\n",
    "            df = pd.DataFrame([details])\n",
    "            csv_file = \"employee_details.csv\"\n",
    "            \n",
    "            # Then save the DataFrame to a CSV file\n",
    "            df.to_csv(csv_file, index=False)\n",
    "            \n",
    "            # And then create a ZIP file and add the CSV file to it as requested \n",
    "            with zipfile.ZipFile(output_zip_file, 'w', zipfile.ZIP_DEFLATED) as zipf:\n",
    "                zipf.write(csv_file)\n",
    "            \n",
    "            # I then clean up the CSV file by removing it after zipping\n",
    "            os.remove(csv_file)\n",
    "             # Return a success message after the operation\n",
    "            return f\"Employee details saved and zipped successfully as {output_zip_file}.\"\n",
    "        else:\n",
    "            # If details are not found, return the message from the employee_details function\n",
    "            return details \n",
    "    except Exception as e:\n",
    "        # I handle any exceptions that occur and return an error message\n",
    "        return f\"An error occurred: {str(e)}\"\n",
    "\n",
    "\n"
   ]
  },
  {
   "cell_type": "code",
   "execution_count": 78,
   "metadata": {},
   "outputs": [
    {
     "name": "stdout",
     "output_type": "stream",
     "text": [
      "Employee details saved and zipped successfully as Employee Profile.zip.\n",
      "Employee details saved and zipped successfully as Employee Profile.zip.\n"
     ]
    }
   ],
   "source": [
    "# Example usage number 1:\n",
    "\n",
    "# Let us call the function with an employee name\n",
    "print(save_employee_details_to_zip(\"thomas\", \"Employee Profile.zip\"))\n"
   ]
  },
  {
   "cell_type": "code",
   "execution_count": 79,
   "metadata": {},
   "outputs": [
    {
     "name": "stdout",
     "output_type": "stream",
     "text": [
      "No details found for employee: mubanga\n",
      "No details found for employee: mubanga\n"
     ]
    }
   ],
   "source": [
    "# Example usage number 2:\n",
    "# Let us call the function with a non existent employee name\n",
    "print(save_employee_details_to_zip(\"mubanga\", \"Employee Profile.zip\"))\n"
   ]
  }
 ],
 "metadata": {
  "language_info": {
   "name": "python"
  }
 },
 "nbformat": 4,
 "nbformat_minor": 2
}
